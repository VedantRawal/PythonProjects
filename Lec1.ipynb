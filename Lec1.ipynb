{
 "cells": [
  {
   "cell_type": "code",
   "execution_count": 1,
   "metadata": {},
   "outputs": [],
   "source": [
    "# Data_Types in Python "
   ]
  },
  {
   "cell_type": "markdown",
   "metadata": {},
   "source": [
    "Numbers & Variables & Strings & Casting & wraper function"
   ]
  },
  {
   "cell_type": "code",
   "execution_count": 45,
   "metadata": {},
   "outputs": [
    {
     "name": "stdout",
     "output_type": "stream",
     "text": [
      "The numbers operators are\n",
      "Addition of 'X & y' is:  50\n",
      "Substraction of 'X & y' is:  -10\n",
      "Multiplication of 'X & y' is:  600\n",
      "Division of 'X & y' is:  0.6666666666666666\n",
      "Modulo of 'X & y' is:  20\n",
      "Complex Expression (90+0j)\n",
      "llo, Wo\n",
      "bytearray(b'\\x00\\x00\\x00\\x00\\x00\\x00\\x00\\x00\\x00\\x00\\x00\\x00\\x00\\x00\\x00\\x00\\x00\\x00\\x00\\x00')\n",
      "1.5\n"
     ]
    }
   ],
   "source": [
    "# Numbers & Variables & Strings & Casting\n",
    "# Here X & Y are varialble \n",
    "\n",
    "x = int(input(\"Enter The Number: \"))\n",
    "y = int(input(\"Enter The Number: \"))\n",
    "r = complex(input(\"Enter The Number: \"))\n",
    "s = complex(input(\"Enter The Number: \"))\n",
    "u = \"Hello, World!\"\n",
    "print(\"The numbers operators are\")\n",
    "\n",
    "print(\"Addition of 'X & y' is: \",x + y)\n",
    "print(\"Substraction of 'X & y' is: \",x - y)\n",
    "print(\"Multiplication of 'X & y' is: \",x * y)\n",
    "print(\"Division of 'X & y' is: \",x / y)\n",
    "print(\"Modulo of 'X & y' is: \",x % y)\n",
    "print(\"Complex Expression\",r + s)\n",
    "print(u[2:9])\n",
    "t = bytearray(x)\n",
    "print(t)\n",
    "\n",
    "def div(x, y):\n",
    "    print(x / y)\n",
    "\n",
    "def smart_div(func):\n",
    "    def inner(x, y):\n",
    "        if x < y:\n",
    "            x, y = y, x\n",
    "        return func(x, y)\n",
    "\n",
    "    return inner\n",
    "\n",
    "\n",
    "div = smart_div(div)\n",
    "div(x, y)\n"
   ]
  },
  {
   "cell_type": "markdown",
   "metadata": {},
   "source": [
    "String "
   ]
  },
  {
   "cell_type": "code",
   "execution_count": 3,
   "metadata": {},
   "outputs": [
    {
     "name": "stdout",
     "output_type": "stream",
     "text": [
      "llo, Wo\n"
     ]
    }
   ],
   "source": [
    "# String & Casting\n",
    "b = \"Hello, World!\"\n",
    "print(b[2:9])\n"
   ]
  },
  {
   "cell_type": "code",
   "execution_count": 4,
   "metadata": {},
   "outputs": [
    {
     "name": "stdout",
     "output_type": "stream",
     "text": [
      "HELLO world\n"
     ]
    }
   ],
   "source": [
    "b = \"HELLO\"\n",
    "c = \"world\"\n",
    "f = b + \" \"+ c\n",
    "# print(b.lower())\n",
    "# print(c.upper())\n",
    "# print(f.strip())\n",
    "print(f)"
   ]
  },
  {
   "cell_type": "code",
   "execution_count": 5,
   "metadata": {},
   "outputs": [
    {
     "name": "stdout",
     "output_type": "stream",
     "text": [
      "my nmae is don, and i am 20 year old programmer\n"
     ]
    }
   ],
   "source": [
    "age = 20\n",
    "txt = \"my nmae is don, and i am {} year old programmer\"\n",
    "print(txt.format(age))"
   ]
  },
  {
   "cell_type": "code",
   "execution_count": 6,
   "metadata": {},
   "outputs": [
    {
     "name": "stdout",
     "output_type": "stream",
     "text": [
      "i want 12 qty of item no 123 for 1000 dollers.\n"
     ]
    }
   ],
   "source": [
    "qty = int(input(\"Enter the qty: \"))\n",
    "itemno = int(input(\"Enter the item_No: \"))\n",
    "price = int(input(\"Enter the price: \"))\n",
    "\n",
    "myorder = \"i want {} qty of item no {} for {} dollers.\"\n",
    "print(myorder.format(qty,itemno,price))"
   ]
  },
  {
   "cell_type": "markdown",
   "metadata": {},
   "source": [
    "Wraper function"
   ]
  },
  {
   "cell_type": "code",
   "execution_count": 7,
   "metadata": {},
   "outputs": [
    {
     "name": "stdout",
     "output_type": "stream",
     "text": [
      "2.0\n"
     ]
    }
   ],
   "source": [
    "def div(a, b):\n",
    "    print(a / b)\n",
    "\n",
    "def smart_div(func):\n",
    "    def inner(a, b):\n",
    "        if a < b:\n",
    "            a, b = b, a\n",
    "        return func(a, b)\n",
    "\n",
    "    return inner\n",
    "\n",
    "\n",
    "div = smart_div(div)\n",
    "div(2, 4)"
   ]
  },
  {
   "cell_type": "markdown",
   "metadata": {},
   "source": [
    "Shelve & in-bulit functions"
   ]
  },
  {
   "cell_type": "code",
   "execution_count": 8,
   "metadata": {},
   "outputs": [],
   "source": [
    "# It creates a database and stores dictionary entries in it.\n",
    "\n",
    "import shelve\n",
    "s = shelve.open(\"test\")\n",
    "s['name'] = \"Vedant\"\n",
    "s['age'] = 23\n",
    "s['marks'] = 75\n",
    "s.close()"
   ]
  },
  {
   "cell_type": "code",
   "execution_count": 9,
   "metadata": {},
   "outputs": [
    {
     "data": {
      "text/plain": [
       "['Vedant', 23, 1000000, 'manager', 75]"
      ]
     },
     "execution_count": 9,
     "metadata": {},
     "output_type": "execute_result"
    }
   ],
   "source": [
    "s = shelve.open(\"test\")\n",
    "s.get('age')\n",
    "list(s.items())\n",
    "list(s.keys())\n",
    "list(s.values())"
   ]
  },
  {
   "cell_type": "code",
   "execution_count": 10,
   "metadata": {},
   "outputs": [
    {
     "data": {
      "text/plain": [
       "75"
      ]
     },
     "execution_count": 10,
     "metadata": {},
     "output_type": "execute_result"
    }
   ],
   "source": [
    "s.pop('marks')"
   ]
  },
  {
   "cell_type": "code",
   "execution_count": 11,
   "metadata": {},
   "outputs": [
    {
     "data": {
      "text/plain": [
       "[('name', 'Vedant'),\n",
       " ('age', 23),\n",
       " ('Salary', 1000000),\n",
       " ('designation', 'manager')]"
      ]
     },
     "execution_count": 11,
     "metadata": {},
     "output_type": "execute_result"
    }
   ],
   "source": [
    "list(s.items()) # here marks is popped out "
   ]
  },
  {
   "cell_type": "code",
   "execution_count": 12,
   "metadata": {},
   "outputs": [],
   "source": [
    "d = {'Salary':1000000,'designation':'manager'}"
   ]
  },
  {
   "cell_type": "code",
   "execution_count": 13,
   "metadata": {},
   "outputs": [],
   "source": [
    "s.update(d)"
   ]
  },
  {
   "cell_type": "code",
   "execution_count": 14,
   "metadata": {},
   "outputs": [
    {
     "data": {
      "text/plain": [
       "[('name', 'Vedant'),\n",
       " ('age', 23),\n",
       " ('Salary', 1000000),\n",
       " ('designation', 'manager')]"
      ]
     },
     "execution_count": 14,
     "metadata": {},
     "output_type": "execute_result"
    }
   ],
   "source": [
    "list(s.items())"
   ]
  },
  {
   "cell_type": "code",
   "execution_count": 15,
   "metadata": {},
   "outputs": [
    {
     "data": {
      "text/plain": [
       "23"
      ]
     },
     "execution_count": 15,
     "metadata": {},
     "output_type": "execute_result"
    }
   ],
   "source": [
    "# Access thr elements from the dictionary\n",
    "s = shelve.open(\"test\")\n",
    "s['age']"
   ]
  },
  {
   "cell_type": "code",
   "execution_count": 35,
   "metadata": {},
   "outputs": [],
   "source": [
    "# write a program that reads list of names and ages and then sorted by the ages in python "
   ]
  },
  {
   "cell_type": "code",
   "execution_count": null,
   "metadata": {},
   "outputs": [],
   "source": []
  },
  {
   "cell_type": "code",
   "execution_count": 34,
   "metadata": {},
   "outputs": [
    {
     "name": "stdout",
     "output_type": "stream",
     "text": [
      "Name Is:  ['vedant']  & Age Is:  [23]\n"
     ]
    }
   ],
   "source": [
    "x = str(input(\"Enter thr Name: \"))\n",
    "y = int(input(\"Enter the Name: \"))\n",
    "\n",
    "a = []\n",
    "b = []\n",
    "\n",
    "a.append(x)\n",
    "b.append(y)\n",
    "print(\"Name Is: \",a,end=' ')\n",
    "print(\" & Age Is: \",b)\n",
    "\n",
    "\n",
    "[['manoj', 23], ['kumar', 23]]"
   ]
  },
  {
   "cell_type": "code",
   "execution_count": 41,
   "metadata": {},
   "outputs": [
    {
     "name": "stdout",
     "output_type": "stream",
     "text": [
      "\n",
      "\n",
      "sorted list:\n",
      "[['vedant', '21'], ['parth', '21'], ['raj', '23']]\n",
      "\n",
      " jason file data:\n",
      "[['vedant', '21'], ['parth', '21'], ['raj', '23']]\n"
     ]
    }
   ],
   "source": [
    "# from typing import OrderedDict\n",
    "import json\n",
    "\n",
    "n = int(input(\"enter count: \"))\n",
    "data = []\n",
    "for i in range(0,n):\n",
    "    name = input(\"Enter the Name: \")\n",
    "    age = input(\"Enter the Age: \")\n",
    "    data.append([name,age])\n",
    "print(\"\\n\")\n",
    "data.sort(key= lambda data:data[1])\n",
    "\n",
    "print(\"sorted list:\")\n",
    "print(data)\n",
    "\n",
    "with open('newfile.json','w') as fp:\n",
    "    json.dump(data,fp)\n",
    "\n",
    "print(\"\\n jason file data:\")\n",
    "\n",
    "f = open('newfile.json')\n",
    "js = json.load(f)\n",
    "\n",
    "print(js)\n",
    "\n",
    "f.close()\n",
    "\n"
   ]
  },
  {
   "cell_type": "code",
   "execution_count": null,
   "metadata": {},
   "outputs": [],
   "source": []
  },
  {
   "cell_type": "code",
   "execution_count": 4,
   "metadata": {},
   "outputs": [],
   "source": [
    "# n = int(input(\"Nmber of entries: \"))\n",
    "# la = []\n",
    "\n",
    "# for i in range(n):\n",
    "#     Name = input(\"Enter the name: \")\n",
    "#     Age = input(\"Enter the age: \")\n",
    "#     la.append([Name,age])\n",
    "\n",
    "# print(\"insert list -\\n\",la)\n",
    "# la.sort(key=lambda la:la[1])\n",
    "# print(\"sortedl list -\\n\",la)"
   ]
  },
  {
   "cell_type": "code",
   "execution_count": 6,
   "metadata": {},
   "outputs": [
    {
     "name": "stdout",
     "output_type": "stream",
     "text": [
      "2019\n",
      "Mike Olsen\n"
     ]
    }
   ],
   "source": [
    "class Person:\n",
    "  def __init__(self, fname, lname):\n",
    "    self.firstname = fname\n",
    "    self.lastname = lname\n",
    "\n",
    "  def printname(self):\n",
    "    print(self.firstname, self.lastname)\n",
    "\n",
    "class Student(Person):\n",
    "  def __init__(self, fname, lname, year):\n",
    "    super().__init__(fname, lname)\n",
    "    self.graduationyear = year\n",
    "\n",
    "x = Student(\"Mike\", \"Olsen\", 2019)\n",
    "print(x.graduationyear)\n",
    "x.printname()\n"
   ]
  },
  {
   "cell_type": "code",
   "execution_count": null,
   "metadata": {},
   "outputs": [],
   "source": [
    "# create a class recgangle and constructor of the call two numeric arguments which are lenght and breadth add methods to compute the area and perimeter of the recatngle and method is squre if the boolean value if the rectangle is the square"
   ]
  },
  {
   "cell_type": "code",
   "execution_count": 12,
   "metadata": {},
   "outputs": [],
   "source": [
    "class Rectangle:\n",
    "    def __init__(self,lenght,breadth):\n",
    "        self.length = lenght\n",
    "        self.breadth = breadth\n",
    "\n",
    "    def lenn (self):\n",
    "        print(self.length)\n",
    "\n",
    "    def brth(self):\n",
    "        print(self.breadth)\n",
    "\n",
    "    def peri(self):\n",
    "        print(2*(self.length + self.breadth))\n",
    "\n",
    "    def area(self):\n",
    "        print(self.length * self.breadth)\n",
    "        \n",
    "    def isSquare(self):\n",
    "        if self.length == self.breadth:\n",
    "            return True\n",
    "        else:\n",
    "            return False"
   ]
  },
  {
   "cell_type": "code",
   "execution_count": 14,
   "metadata": {},
   "outputs": [
    {
     "name": "stdout",
     "output_type": "stream",
     "text": [
      "3\n",
      "7\n",
      "20\n",
      "21\n"
     ]
    },
    {
     "data": {
      "text/plain": [
       "False"
      ]
     },
     "execution_count": 14,
     "metadata": {},
     "output_type": "execute_result"
    }
   ],
   "source": [
    "rec = Rectangle(3,7)\n",
    "rec.lenn()\n",
    "rec.brth()\n",
    "rec.peri()\n",
    "rec.area()\n",
    "rec.isSquare()"
   ]
  },
  {
   "cell_type": "code",
   "execution_count": 17,
   "metadata": {},
   "outputs": [
    {
     "name": "stdout",
     "output_type": "stream",
     "text": [
      "{'v': 1, 'e': 2, 'd': 1, 'a': 1, 'n': 1, 't': 1, ' ': 1, 'h': 1, 'l': 2, 'o': 1}\n"
     ]
    }
   ],
   "source": [
    "x = input()\n",
    "temp = {}\n",
    "\n",
    "for i in x:\n",
    "    if i in temp:\n",
    "        temp[i] += 1\n",
    "    else:\n",
    "        temp[i] = 1\n",
    "print(temp)"
   ]
  },
  {
   "cell_type": "code",
   "execution_count": 3,
   "metadata": {},
   "outputs": [
    {
     "name": "stdout",
     "output_type": "stream",
     "text": [
      "-12\n"
     ]
    }
   ],
   "source": [
    "n = int(input(\"Enter the no: \"))\n",
    "t1 = 0\n",
    "t2 = 0\n",
    "\n",
    "for i in range(1,n+1):\n",
    "    if i%3==0:\n",
    "        t1 +=i\n",
    "        if i%2 == 0:\n",
    "            t2+=i\n",
    "    elif i%2==0:\n",
    "        t2+=i\n",
    "print(t1 - t2)\n"
   ]
  },
  {
   "cell_type": "code",
   "execution_count": 5,
   "metadata": {},
   "outputs": [
    {
     "name": "stdout",
     "output_type": "stream",
     "text": [
      "Original Integer:\n",
      "922\n",
      "Check whether the said integer greater than 4^4 and which is 7 mod 134 :\n",
      "True\n"
     ]
    }
   ],
   "source": [
    "n = int(input(\"Enter thr digit: \"))\n",
    "def test(n):\n",
    "  return n % 34 == 4 and n > 4 ** 4\n",
    "print(\"Original Integer:\")\n",
    "print(n)\n",
    "print(\"Check whether the said integer greater than 4^4 and which is 7 mod 134 :\")\n",
    "print(test(n))\n"
   ]
  },
  {
   "cell_type": "code",
   "execution_count": 3,
   "metadata": {},
   "outputs": [
    {
     "name": "stdout",
     "output_type": "stream",
     "text": [
      "The decimal value of 100 is: \n",
      "0b1100100 in binary.\n"
     ]
    }
   ],
   "source": [
    "# CODE 3\n",
    "# Convert Decimal into Binary\n",
    "\n",
    "n = int(input(\"Enter the Number: \"))\n",
    "\n",
    "print(\"The decimal value of\",n,\"is: \")\n",
    "print(bin(n),\"in binary.\")\n",
    "\n"
   ]
  },
  {
   "cell_type": "code",
   "execution_count": null,
   "metadata": {},
   "outputs": [],
   "source": []
  }
 ],
 "metadata": {
  "kernelspec": {
   "display_name": "Python 3.10.4 64-bit",
   "language": "python",
   "name": "python3"
  },
  "language_info": {
   "codemirror_mode": {
    "name": "ipython",
    "version": 3
   },
   "file_extension": ".py",
   "mimetype": "text/x-python",
   "name": "python",
   "nbconvert_exporter": "python",
   "pygments_lexer": "ipython3",
   "version": "3.10.4"
  },
  "orig_nbformat": 4,
  "vscode": {
   "interpreter": {
    "hash": "9805102388754c061ca639f0b9155f6265d99e04ef2163c33f47fdb668ef9679"
   }
  }
 },
 "nbformat": 4,
 "nbformat_minor": 2
}
