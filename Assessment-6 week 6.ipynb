{
 "cells": [
  {
   "cell_type": "markdown",
   "metadata": {
    "id": "4UNJcr2uOAgz"
   },
   "source": [
    "**Support Vector Machine**"
   ]
  },
  {
   "cell_type": "code",
   "execution_count": 1,
   "metadata": {
    "id": "JzL0GR2YN3zo"
   },
   "outputs": [],
   "source": [
    "from sklearn import datasets\n",
    "import numpy as np\n",
    "import time\n",
    "import pandas as pd\n",
    "from sklearn.metrics import accuracy_score\n",
    "from sklearn.model_selection import train_test_split\n",
    "from sklearn import svm"
   ]
  },
  {
   "cell_type": "code",
   "execution_count": 2,
   "metadata": {
    "id": "wamny3eFN3zt"
   },
   "outputs": [],
   "source": [
    "# Loading credit card dataset\n",
    "data = pd.read_csv(\"10kcc.csv\")"
   ]
  },
  {
   "cell_type": "code",
   "execution_count": 3,
   "metadata": {},
   "outputs": [
    {
     "data": {
      "text/html": [
       "<div>\n",
       "<style scoped>\n",
       "    .dataframe tbody tr th:only-of-type {\n",
       "        vertical-align: middle;\n",
       "    }\n",
       "\n",
       "    .dataframe tbody tr th {\n",
       "        vertical-align: top;\n",
       "    }\n",
       "\n",
       "    .dataframe thead th {\n",
       "        text-align: right;\n",
       "    }\n",
       "</style>\n",
       "<table border=\"1\" class=\"dataframe\">\n",
       "  <thead>\n",
       "    <tr style=\"text-align: right;\">\n",
       "      <th></th>\n",
       "      <th>Time</th>\n",
       "      <th>V1</th>\n",
       "      <th>V2</th>\n",
       "      <th>V3</th>\n",
       "      <th>V4</th>\n",
       "      <th>V5</th>\n",
       "      <th>V6</th>\n",
       "      <th>V7</th>\n",
       "      <th>V8</th>\n",
       "      <th>V9</th>\n",
       "      <th>...</th>\n",
       "      <th>V21</th>\n",
       "      <th>V22</th>\n",
       "      <th>V23</th>\n",
       "      <th>V24</th>\n",
       "      <th>V25</th>\n",
       "      <th>V26</th>\n",
       "      <th>V27</th>\n",
       "      <th>V28</th>\n",
       "      <th>Amount</th>\n",
       "      <th>Class</th>\n",
       "    </tr>\n",
       "  </thead>\n",
       "  <tbody>\n",
       "    <tr>\n",
       "      <th>0</th>\n",
       "      <td>0</td>\n",
       "      <td>-1.359807</td>\n",
       "      <td>-0.072781</td>\n",
       "      <td>2.536347</td>\n",
       "      <td>1.378155</td>\n",
       "      <td>-0.338321</td>\n",
       "      <td>0.462388</td>\n",
       "      <td>0.239599</td>\n",
       "      <td>0.098698</td>\n",
       "      <td>0.363787</td>\n",
       "      <td>...</td>\n",
       "      <td>-0.018307</td>\n",
       "      <td>0.277838</td>\n",
       "      <td>-0.110474</td>\n",
       "      <td>0.066928</td>\n",
       "      <td>0.128539</td>\n",
       "      <td>-0.189115</td>\n",
       "      <td>0.133558</td>\n",
       "      <td>-0.021053</td>\n",
       "      <td>149.62</td>\n",
       "      <td>0</td>\n",
       "    </tr>\n",
       "    <tr>\n",
       "      <th>1</th>\n",
       "      <td>0</td>\n",
       "      <td>1.191857</td>\n",
       "      <td>0.266151</td>\n",
       "      <td>0.166480</td>\n",
       "      <td>0.448154</td>\n",
       "      <td>0.060018</td>\n",
       "      <td>-0.082361</td>\n",
       "      <td>-0.078803</td>\n",
       "      <td>0.085102</td>\n",
       "      <td>-0.255425</td>\n",
       "      <td>...</td>\n",
       "      <td>-0.225775</td>\n",
       "      <td>-0.638672</td>\n",
       "      <td>0.101288</td>\n",
       "      <td>-0.339846</td>\n",
       "      <td>0.167170</td>\n",
       "      <td>0.125895</td>\n",
       "      <td>-0.008983</td>\n",
       "      <td>0.014724</td>\n",
       "      <td>2.69</td>\n",
       "      <td>0</td>\n",
       "    </tr>\n",
       "    <tr>\n",
       "      <th>2</th>\n",
       "      <td>1</td>\n",
       "      <td>-1.358354</td>\n",
       "      <td>-1.340163</td>\n",
       "      <td>1.773209</td>\n",
       "      <td>0.379780</td>\n",
       "      <td>-0.503198</td>\n",
       "      <td>1.800499</td>\n",
       "      <td>0.791461</td>\n",
       "      <td>0.247676</td>\n",
       "      <td>-1.514654</td>\n",
       "      <td>...</td>\n",
       "      <td>0.247998</td>\n",
       "      <td>0.771679</td>\n",
       "      <td>0.909412</td>\n",
       "      <td>-0.689281</td>\n",
       "      <td>-0.327642</td>\n",
       "      <td>-0.139097</td>\n",
       "      <td>-0.055353</td>\n",
       "      <td>-0.059752</td>\n",
       "      <td>378.66</td>\n",
       "      <td>0</td>\n",
       "    </tr>\n",
       "    <tr>\n",
       "      <th>3</th>\n",
       "      <td>1</td>\n",
       "      <td>-0.966272</td>\n",
       "      <td>-0.185226</td>\n",
       "      <td>1.792993</td>\n",
       "      <td>-0.863291</td>\n",
       "      <td>-0.010309</td>\n",
       "      <td>1.247203</td>\n",
       "      <td>0.237609</td>\n",
       "      <td>0.377436</td>\n",
       "      <td>-1.387024</td>\n",
       "      <td>...</td>\n",
       "      <td>-0.108300</td>\n",
       "      <td>0.005274</td>\n",
       "      <td>-0.190321</td>\n",
       "      <td>-1.175575</td>\n",
       "      <td>0.647376</td>\n",
       "      <td>-0.221929</td>\n",
       "      <td>0.062723</td>\n",
       "      <td>0.061458</td>\n",
       "      <td>123.50</td>\n",
       "      <td>0</td>\n",
       "    </tr>\n",
       "    <tr>\n",
       "      <th>4</th>\n",
       "      <td>2</td>\n",
       "      <td>-1.158233</td>\n",
       "      <td>0.877737</td>\n",
       "      <td>1.548718</td>\n",
       "      <td>0.403034</td>\n",
       "      <td>-0.407193</td>\n",
       "      <td>0.095921</td>\n",
       "      <td>0.592941</td>\n",
       "      <td>-0.270533</td>\n",
       "      <td>0.817739</td>\n",
       "      <td>...</td>\n",
       "      <td>-0.009431</td>\n",
       "      <td>0.798278</td>\n",
       "      <td>-0.137458</td>\n",
       "      <td>0.141267</td>\n",
       "      <td>-0.206010</td>\n",
       "      <td>0.502292</td>\n",
       "      <td>0.219422</td>\n",
       "      <td>0.215153</td>\n",
       "      <td>69.99</td>\n",
       "      <td>0</td>\n",
       "    </tr>\n",
       "    <tr>\n",
       "      <th>...</th>\n",
       "      <td>...</td>\n",
       "      <td>...</td>\n",
       "      <td>...</td>\n",
       "      <td>...</td>\n",
       "      <td>...</td>\n",
       "      <td>...</td>\n",
       "      <td>...</td>\n",
       "      <td>...</td>\n",
       "      <td>...</td>\n",
       "      <td>...</td>\n",
       "      <td>...</td>\n",
       "      <td>...</td>\n",
       "      <td>...</td>\n",
       "      <td>...</td>\n",
       "      <td>...</td>\n",
       "      <td>...</td>\n",
       "      <td>...</td>\n",
       "      <td>...</td>\n",
       "      <td>...</td>\n",
       "      <td>...</td>\n",
       "      <td>...</td>\n",
       "    </tr>\n",
       "    <tr>\n",
       "      <th>9994</th>\n",
       "      <td>14997</td>\n",
       "      <td>1.057155</td>\n",
       "      <td>0.495355</td>\n",
       "      <td>1.212903</td>\n",
       "      <td>2.548761</td>\n",
       "      <td>-0.105953</td>\n",
       "      <td>0.562292</td>\n",
       "      <td>-0.414434</td>\n",
       "      <td>0.135318</td>\n",
       "      <td>0.412228</td>\n",
       "      <td>...</td>\n",
       "      <td>0.089113</td>\n",
       "      <td>0.515654</td>\n",
       "      <td>-0.053050</td>\n",
       "      <td>-0.014731</td>\n",
       "      <td>0.340114</td>\n",
       "      <td>0.066419</td>\n",
       "      <td>0.003253</td>\n",
       "      <td>0.014148</td>\n",
       "      <td>17.44</td>\n",
       "      <td>0</td>\n",
       "    </tr>\n",
       "    <tr>\n",
       "      <th>9995</th>\n",
       "      <td>15001</td>\n",
       "      <td>1.178755</td>\n",
       "      <td>0.596025</td>\n",
       "      <td>0.074131</td>\n",
       "      <td>2.542393</td>\n",
       "      <td>0.450685</td>\n",
       "      <td>-0.179355</td>\n",
       "      <td>0.326365</td>\n",
       "      <td>-0.234949</td>\n",
       "      <td>0.473040</td>\n",
       "      <td>...</td>\n",
       "      <td>-0.228112</td>\n",
       "      <td>-0.561559</td>\n",
       "      <td>-0.182781</td>\n",
       "      <td>-0.523241</td>\n",
       "      <td>0.667142</td>\n",
       "      <td>0.015699</td>\n",
       "      <td>-0.067238</td>\n",
       "      <td>0.008709</td>\n",
       "      <td>53.19</td>\n",
       "      <td>0</td>\n",
       "    </tr>\n",
       "    <tr>\n",
       "      <th>9996</th>\n",
       "      <td>15004</td>\n",
       "      <td>1.228455</td>\n",
       "      <td>0.049488</td>\n",
       "      <td>1.022099</td>\n",
       "      <td>0.386471</td>\n",
       "      <td>-0.973228</td>\n",
       "      <td>-1.067822</td>\n",
       "      <td>-0.383162</td>\n",
       "      <td>-0.205407</td>\n",
       "      <td>1.699304</td>\n",
       "      <td>...</td>\n",
       "      <td>-0.322912</td>\n",
       "      <td>-0.730294</td>\n",
       "      <td>0.205601</td>\n",
       "      <td>0.686302</td>\n",
       "      <td>-0.071008</td>\n",
       "      <td>0.729846</td>\n",
       "      <td>-0.092276</td>\n",
       "      <td>0.012277</td>\n",
       "      <td>12.18</td>\n",
       "      <td>0</td>\n",
       "    </tr>\n",
       "    <tr>\n",
       "      <th>9997</th>\n",
       "      <td>15008</td>\n",
       "      <td>-0.971734</td>\n",
       "      <td>0.744625</td>\n",
       "      <td>2.334822</td>\n",
       "      <td>-0.408046</td>\n",
       "      <td>-0.999231</td>\n",
       "      <td>-0.629294</td>\n",
       "      <td>-0.377212</td>\n",
       "      <td>0.481230</td>\n",
       "      <td>1.599496</td>\n",
       "      <td>...</td>\n",
       "      <td>-0.116821</td>\n",
       "      <td>-0.141219</td>\n",
       "      <td>-0.026115</td>\n",
       "      <td>0.712719</td>\n",
       "      <td>-0.372964</td>\n",
       "      <td>0.750323</td>\n",
       "      <td>-0.107875</td>\n",
       "      <td>0.031272</td>\n",
       "      <td>4.05</td>\n",
       "      <td>0</td>\n",
       "    </tr>\n",
       "    <tr>\n",
       "      <th>9998</th>\n",
       "      <td>15010</td>\n",
       "      <td>-1.529666</td>\n",
       "      <td>1.475870</td>\n",
       "      <td>1.507624</td>\n",
       "      <td>-0.662935</td>\n",
       "      <td>-1.037152</td>\n",
       "      <td>-1.159860</td>\n",
       "      <td>-0.303219</td>\n",
       "      <td>0.745766</td>\n",
       "      <td>0.946896</td>\n",
       "      <td>...</td>\n",
       "      <td>-0.197993</td>\n",
       "      <td>-0.634088</td>\n",
       "      <td>0.100631</td>\n",
       "      <td>0.669449</td>\n",
       "      <td>-0.269750</td>\n",
       "      <td>0.611964</td>\n",
       "      <td>-0.169789</td>\n",
       "      <td>0.007846</td>\n",
       "      <td>4.05</td>\n",
       "      <td>0</td>\n",
       "    </tr>\n",
       "  </tbody>\n",
       "</table>\n",
       "<p>9999 rows × 31 columns</p>\n",
       "</div>"
      ],
      "text/plain": [
       "       Time        V1        V2        V3        V4        V5        V6  \\\n",
       "0         0 -1.359807 -0.072781  2.536347  1.378155 -0.338321  0.462388   \n",
       "1         0  1.191857  0.266151  0.166480  0.448154  0.060018 -0.082361   \n",
       "2         1 -1.358354 -1.340163  1.773209  0.379780 -0.503198  1.800499   \n",
       "3         1 -0.966272 -0.185226  1.792993 -0.863291 -0.010309  1.247203   \n",
       "4         2 -1.158233  0.877737  1.548718  0.403034 -0.407193  0.095921   \n",
       "...     ...       ...       ...       ...       ...       ...       ...   \n",
       "9994  14997  1.057155  0.495355  1.212903  2.548761 -0.105953  0.562292   \n",
       "9995  15001  1.178755  0.596025  0.074131  2.542393  0.450685 -0.179355   \n",
       "9996  15004  1.228455  0.049488  1.022099  0.386471 -0.973228 -1.067822   \n",
       "9997  15008 -0.971734  0.744625  2.334822 -0.408046 -0.999231 -0.629294   \n",
       "9998  15010 -1.529666  1.475870  1.507624 -0.662935 -1.037152 -1.159860   \n",
       "\n",
       "            V7        V8        V9  ...       V21       V22       V23  \\\n",
       "0     0.239599  0.098698  0.363787  ... -0.018307  0.277838 -0.110474   \n",
       "1    -0.078803  0.085102 -0.255425  ... -0.225775 -0.638672  0.101288   \n",
       "2     0.791461  0.247676 -1.514654  ...  0.247998  0.771679  0.909412   \n",
       "3     0.237609  0.377436 -1.387024  ... -0.108300  0.005274 -0.190321   \n",
       "4     0.592941 -0.270533  0.817739  ... -0.009431  0.798278 -0.137458   \n",
       "...        ...       ...       ...  ...       ...       ...       ...   \n",
       "9994 -0.414434  0.135318  0.412228  ...  0.089113  0.515654 -0.053050   \n",
       "9995  0.326365 -0.234949  0.473040  ... -0.228112 -0.561559 -0.182781   \n",
       "9996 -0.383162 -0.205407  1.699304  ... -0.322912 -0.730294  0.205601   \n",
       "9997 -0.377212  0.481230  1.599496  ... -0.116821 -0.141219 -0.026115   \n",
       "9998 -0.303219  0.745766  0.946896  ... -0.197993 -0.634088  0.100631   \n",
       "\n",
       "           V24       V25       V26       V27       V28  Amount  Class  \n",
       "0     0.066928  0.128539 -0.189115  0.133558 -0.021053  149.62      0  \n",
       "1    -0.339846  0.167170  0.125895 -0.008983  0.014724    2.69      0  \n",
       "2    -0.689281 -0.327642 -0.139097 -0.055353 -0.059752  378.66      0  \n",
       "3    -1.175575  0.647376 -0.221929  0.062723  0.061458  123.50      0  \n",
       "4     0.141267 -0.206010  0.502292  0.219422  0.215153   69.99      0  \n",
       "...        ...       ...       ...       ...       ...     ...    ...  \n",
       "9994 -0.014731  0.340114  0.066419  0.003253  0.014148   17.44      0  \n",
       "9995 -0.523241  0.667142  0.015699 -0.067238  0.008709   53.19      0  \n",
       "9996  0.686302 -0.071008  0.729846 -0.092276  0.012277   12.18      0  \n",
       "9997  0.712719 -0.372964  0.750323 -0.107875  0.031272    4.05      0  \n",
       "9998  0.669449 -0.269750  0.611964 -0.169789  0.007846    4.05      0  \n",
       "\n",
       "[9999 rows x 31 columns]"
      ]
     },
     "execution_count": 3,
     "metadata": {},
     "output_type": "execute_result"
    }
   ],
   "source": [
    "data"
   ]
  },
  {
   "cell_type": "code",
   "execution_count": 4,
   "metadata": {},
   "outputs": [
    {
     "name": "stdout",
     "output_type": "stream",
     "text": [
      "<class 'pandas.core.frame.DataFrame'>\n",
      "RangeIndex: 9999 entries, 0 to 9998\n",
      "Data columns (total 31 columns):\n",
      " #   Column  Non-Null Count  Dtype  \n",
      "---  ------  --------------  -----  \n",
      " 0   Time    9999 non-null   int64  \n",
      " 1   V1      9999 non-null   float64\n",
      " 2   V2      9999 non-null   float64\n",
      " 3   V3      9999 non-null   float64\n",
      " 4   V4      9999 non-null   float64\n",
      " 5   V5      9999 non-null   float64\n",
      " 6   V6      9999 non-null   float64\n",
      " 7   V7      9999 non-null   float64\n",
      " 8   V8      9999 non-null   float64\n",
      " 9   V9      9999 non-null   float64\n",
      " 10  V10     9999 non-null   float64\n",
      " 11  V11     9999 non-null   float64\n",
      " 12  V12     9999 non-null   float64\n",
      " 13  V13     9999 non-null   float64\n",
      " 14  V14     9999 non-null   float64\n",
      " 15  V15     9999 non-null   float64\n",
      " 16  V16     9999 non-null   float64\n",
      " 17  V17     9999 non-null   float64\n",
      " 18  V18     9999 non-null   float64\n",
      " 19  V19     9999 non-null   float64\n",
      " 20  V20     9999 non-null   float64\n",
      " 21  V21     9999 non-null   float64\n",
      " 22  V22     9999 non-null   float64\n",
      " 23  V23     9999 non-null   float64\n",
      " 24  V24     9999 non-null   float64\n",
      " 25  V25     9999 non-null   float64\n",
      " 26  V26     9999 non-null   float64\n",
      " 27  V27     9999 non-null   float64\n",
      " 28  V28     9999 non-null   float64\n",
      " 29  Amount  9999 non-null   float64\n",
      " 30  Class   9999 non-null   int64  \n",
      "dtypes: float64(29), int64(2)\n",
      "memory usage: 2.4 MB\n"
     ]
    }
   ],
   "source": [
    "data.info()"
   ]
  },
  {
   "cell_type": "code",
   "execution_count": 5,
   "metadata": {},
   "outputs": [
    {
     "data": {
      "text/html": [
       "<div>\n",
       "<style scoped>\n",
       "    .dataframe tbody tr th:only-of-type {\n",
       "        vertical-align: middle;\n",
       "    }\n",
       "\n",
       "    .dataframe tbody tr th {\n",
       "        vertical-align: top;\n",
       "    }\n",
       "\n",
       "    .dataframe thead th {\n",
       "        text-align: right;\n",
       "    }\n",
       "</style>\n",
       "<table border=\"1\" class=\"dataframe\">\n",
       "  <thead>\n",
       "    <tr style=\"text-align: right;\">\n",
       "      <th></th>\n",
       "      <th>Time</th>\n",
       "      <th>V1</th>\n",
       "      <th>V2</th>\n",
       "      <th>V3</th>\n",
       "      <th>V4</th>\n",
       "      <th>V5</th>\n",
       "      <th>V6</th>\n",
       "      <th>V7</th>\n",
       "      <th>V8</th>\n",
       "      <th>V9</th>\n",
       "      <th>...</th>\n",
       "      <th>V21</th>\n",
       "      <th>V22</th>\n",
       "      <th>V23</th>\n",
       "      <th>V24</th>\n",
       "      <th>V25</th>\n",
       "      <th>V26</th>\n",
       "      <th>V27</th>\n",
       "      <th>V28</th>\n",
       "      <th>Amount</th>\n",
       "      <th>Class</th>\n",
       "    </tr>\n",
       "  </thead>\n",
       "  <tbody>\n",
       "    <tr>\n",
       "      <th>0</th>\n",
       "      <td>0</td>\n",
       "      <td>-1.359807</td>\n",
       "      <td>-0.072781</td>\n",
       "      <td>2.536347</td>\n",
       "      <td>1.378155</td>\n",
       "      <td>-0.338321</td>\n",
       "      <td>0.462388</td>\n",
       "      <td>0.239599</td>\n",
       "      <td>0.098698</td>\n",
       "      <td>0.363787</td>\n",
       "      <td>...</td>\n",
       "      <td>-0.018307</td>\n",
       "      <td>0.277838</td>\n",
       "      <td>-0.110474</td>\n",
       "      <td>0.066928</td>\n",
       "      <td>0.128539</td>\n",
       "      <td>-0.189115</td>\n",
       "      <td>0.133558</td>\n",
       "      <td>-0.021053</td>\n",
       "      <td>149.62</td>\n",
       "      <td>0</td>\n",
       "    </tr>\n",
       "    <tr>\n",
       "      <th>1</th>\n",
       "      <td>0</td>\n",
       "      <td>1.191857</td>\n",
       "      <td>0.266151</td>\n",
       "      <td>0.166480</td>\n",
       "      <td>0.448154</td>\n",
       "      <td>0.060018</td>\n",
       "      <td>-0.082361</td>\n",
       "      <td>-0.078803</td>\n",
       "      <td>0.085102</td>\n",
       "      <td>-0.255425</td>\n",
       "      <td>...</td>\n",
       "      <td>-0.225775</td>\n",
       "      <td>-0.638672</td>\n",
       "      <td>0.101288</td>\n",
       "      <td>-0.339846</td>\n",
       "      <td>0.167170</td>\n",
       "      <td>0.125895</td>\n",
       "      <td>-0.008983</td>\n",
       "      <td>0.014724</td>\n",
       "      <td>2.69</td>\n",
       "      <td>0</td>\n",
       "    </tr>\n",
       "    <tr>\n",
       "      <th>2</th>\n",
       "      <td>1</td>\n",
       "      <td>-1.358354</td>\n",
       "      <td>-1.340163</td>\n",
       "      <td>1.773209</td>\n",
       "      <td>0.379780</td>\n",
       "      <td>-0.503198</td>\n",
       "      <td>1.800499</td>\n",
       "      <td>0.791461</td>\n",
       "      <td>0.247676</td>\n",
       "      <td>-1.514654</td>\n",
       "      <td>...</td>\n",
       "      <td>0.247998</td>\n",
       "      <td>0.771679</td>\n",
       "      <td>0.909412</td>\n",
       "      <td>-0.689281</td>\n",
       "      <td>-0.327642</td>\n",
       "      <td>-0.139097</td>\n",
       "      <td>-0.055353</td>\n",
       "      <td>-0.059752</td>\n",
       "      <td>378.66</td>\n",
       "      <td>0</td>\n",
       "    </tr>\n",
       "    <tr>\n",
       "      <th>3</th>\n",
       "      <td>1</td>\n",
       "      <td>-0.966272</td>\n",
       "      <td>-0.185226</td>\n",
       "      <td>1.792993</td>\n",
       "      <td>-0.863291</td>\n",
       "      <td>-0.010309</td>\n",
       "      <td>1.247203</td>\n",
       "      <td>0.237609</td>\n",
       "      <td>0.377436</td>\n",
       "      <td>-1.387024</td>\n",
       "      <td>...</td>\n",
       "      <td>-0.108300</td>\n",
       "      <td>0.005274</td>\n",
       "      <td>-0.190321</td>\n",
       "      <td>-1.175575</td>\n",
       "      <td>0.647376</td>\n",
       "      <td>-0.221929</td>\n",
       "      <td>0.062723</td>\n",
       "      <td>0.061458</td>\n",
       "      <td>123.50</td>\n",
       "      <td>0</td>\n",
       "    </tr>\n",
       "    <tr>\n",
       "      <th>4</th>\n",
       "      <td>2</td>\n",
       "      <td>-1.158233</td>\n",
       "      <td>0.877737</td>\n",
       "      <td>1.548718</td>\n",
       "      <td>0.403034</td>\n",
       "      <td>-0.407193</td>\n",
       "      <td>0.095921</td>\n",
       "      <td>0.592941</td>\n",
       "      <td>-0.270533</td>\n",
       "      <td>0.817739</td>\n",
       "      <td>...</td>\n",
       "      <td>-0.009431</td>\n",
       "      <td>0.798278</td>\n",
       "      <td>-0.137458</td>\n",
       "      <td>0.141267</td>\n",
       "      <td>-0.206010</td>\n",
       "      <td>0.502292</td>\n",
       "      <td>0.219422</td>\n",
       "      <td>0.215153</td>\n",
       "      <td>69.99</td>\n",
       "      <td>0</td>\n",
       "    </tr>\n",
       "  </tbody>\n",
       "</table>\n",
       "<p>5 rows × 31 columns</p>\n",
       "</div>"
      ],
      "text/plain": [
       "   Time        V1        V2        V3        V4        V5        V6        V7  \\\n",
       "0     0 -1.359807 -0.072781  2.536347  1.378155 -0.338321  0.462388  0.239599   \n",
       "1     0  1.191857  0.266151  0.166480  0.448154  0.060018 -0.082361 -0.078803   \n",
       "2     1 -1.358354 -1.340163  1.773209  0.379780 -0.503198  1.800499  0.791461   \n",
       "3     1 -0.966272 -0.185226  1.792993 -0.863291 -0.010309  1.247203  0.237609   \n",
       "4     2 -1.158233  0.877737  1.548718  0.403034 -0.407193  0.095921  0.592941   \n",
       "\n",
       "         V8        V9  ...       V21       V22       V23       V24       V25  \\\n",
       "0  0.098698  0.363787  ... -0.018307  0.277838 -0.110474  0.066928  0.128539   \n",
       "1  0.085102 -0.255425  ... -0.225775 -0.638672  0.101288 -0.339846  0.167170   \n",
       "2  0.247676 -1.514654  ...  0.247998  0.771679  0.909412 -0.689281 -0.327642   \n",
       "3  0.377436 -1.387024  ... -0.108300  0.005274 -0.190321 -1.175575  0.647376   \n",
       "4 -0.270533  0.817739  ... -0.009431  0.798278 -0.137458  0.141267 -0.206010   \n",
       "\n",
       "        V26       V27       V28  Amount  Class  \n",
       "0 -0.189115  0.133558 -0.021053  149.62      0  \n",
       "1  0.125895 -0.008983  0.014724    2.69      0  \n",
       "2 -0.139097 -0.055353 -0.059752  378.66      0  \n",
       "3 -0.221929  0.062723  0.061458  123.50      0  \n",
       "4  0.502292  0.219422  0.215153   69.99      0  \n",
       "\n",
       "[5 rows x 31 columns]"
      ]
     },
     "execution_count": 5,
     "metadata": {},
     "output_type": "execute_result"
    }
   ],
   "source": [
    "data.head()"
   ]
  },
  {
   "cell_type": "code",
   "execution_count": 6,
   "metadata": {},
   "outputs": [
    {
     "data": {
      "text/plain": [
       "(9999, 31)"
      ]
     },
     "execution_count": 6,
     "metadata": {},
     "output_type": "execute_result"
    }
   ],
   "source": [
    "data.shape"
   ]
  },
  {
   "cell_type": "code",
   "execution_count": 7,
   "metadata": {},
   "outputs": [],
   "source": [
    "# Loading the features and storing them in X\n",
    "X = data.iloc[:, 0:30]\n",
    "# Loading the labels and storing them in y\n",
    "y = data[\"Class\"]"
   ]
  },
  {
   "cell_type": "code",
   "execution_count": null,
   "metadata": {},
   "outputs": [],
   "source": []
  },
  {
   "cell_type": "code",
   "execution_count": 18,
   "metadata": {
    "id": "PgatGC9nN3zx"
   },
   "outputs": [],
   "source": [
    "## Train = 60 % , Test = 20 % , Train = 20 %\n",
    "X_train, X_test, X_validation = np.split(X, [int(.7 * len(X)), int(.8 * len(X))])\n",
    "Y_train, Y_test, Y_validation = np.split(y, [int(.7 * len(y)), int(.8 * len(y))])"
   ]
  },
  {
   "cell_type": "code",
   "execution_count": 20,
   "metadata": {
    "id": "9xAMmtvRN3z0",
    "outputId": "1015f2cb-c0e4-4d91-c4b7-af481d8ddb79"
   },
   "outputs": [
    {
     "name": "stdout",
     "output_type": "stream",
     "text": [
      "Training time is  0.056 seconds\n"
     ]
    },
    {
     "name": "stderr",
     "output_type": "stream",
     "text": [
      "C:\\Users\\vedan\\anaconda3\\lib\\site-packages\\sklearn\\svm\\_base.py:1206: ConvergenceWarning: Liblinear failed to converge, increase the number of iterations.\n",
      "  warnings.warn(\n"
     ]
    }
   ],
   "source": [
    "from sklearn.svm import LinearSVC\n",
    "## Creating the svm object\n",
    "clf = LinearSVC(random_state=0)\n",
    "# Intilizing the time object\n",
    "t0 = time.time()\n",
    "t1 = time.time()\n",
    "## Fitting the data into the trained model\n",
    "clf.fit(X_train, Y_train)\n",
    "print(\"Training time is \", round(time.time() - t0, 3),  \"seconds\")"
   ]
  },
  {
   "cell_type": "code",
   "execution_count": 21,
   "metadata": {
    "id": "GT0vHtRYN3z5",
    "outputId": "849656e7-032f-4210-ef59-ec151fb7e87c"
   },
   "outputs": [
    {
     "name": "stdout",
     "output_type": "stream",
     "text": [
      "Testing time is  0.649 seconds\n"
     ]
    }
   ],
   "source": [
    "# Testing the data on the trained model\n",
    "y_pred = clf.predict(X_test)\n",
    "print(\"Testing time is \", round(time.time() - t1, 3),  \"seconds\")"
   ]
  },
  {
   "cell_type": "code",
   "execution_count": 22,
   "metadata": {
    "id": "i1tYvAt9N3z8",
    "outputId": "ea43c798-566f-4ef3-99a7-b2d39e22a11b"
   },
   "outputs": [
    {
     "data": {
      "text/plain": [
       "1.0"
      ]
     },
     "execution_count": 22,
     "metadata": {},
     "output_type": "execute_result"
    }
   ],
   "source": [
    "accuracy_score(Y_test,y_pred)"
   ]
  },
  {
   "cell_type": "code",
   "execution_count": 23,
   "metadata": {
    "id": "MkzgsaT2N30A",
    "outputId": "e37e097c-6652-4f10-9dbb-674746e33bf0"
   },
   "outputs": [
    {
     "name": "stdout",
     "output_type": "stream",
     "text": [
      "Training time is  2.624 seconds\n"
     ]
    }
   ],
   "source": [
    "# Creating the svm object\n",
    "clf = svm.SVC(kernel='rbf', gamma=0.7)\n",
    "# Creating the time object\n",
    "t0 = time.time()\n",
    "t1 = time.time()\n",
    "# Fitting the data into the model\n",
    "clf.fit(X_train, Y_train)\n",
    "#Calculating the training time\n",
    "print(\"Training time is \", round(time.time() - t0, 3),  \"seconds\")"
   ]
  },
  {
   "cell_type": "code",
   "execution_count": 24,
   "metadata": {
    "id": "KUVnFRdMN30D",
    "outputId": "4752a637-ec7c-42c5-8fa8-e8182ebecbb0"
   },
   "outputs": [
    {
     "name": "stdout",
     "output_type": "stream",
     "text": [
      "Testing time is  3.632 seconds\n"
     ]
    }
   ],
   "source": [
    "#testing the data on the trained model\n",
    "y_pred = clf.predict(X_test)\n",
    "# Calculating the testing time\n",
    "print(\"Testing time is \", round(time.time() - t1, 3),  \"seconds\")"
   ]
  },
  {
   "cell_type": "code",
   "execution_count": 25,
   "metadata": {
    "id": "0_pJIbXlN30H",
    "outputId": "fe355124-d9e9-467f-cdd7-b220f7b3155d"
   },
   "outputs": [
    {
     "data": {
      "text/plain": [
       "1.0"
      ]
     },
     "execution_count": 25,
     "metadata": {},
     "output_type": "execute_result"
    }
   ],
   "source": [
    "accuracy_score(Y_test,y_pred)"
   ]
  },
  {
   "cell_type": "code",
   "execution_count": 26,
   "metadata": {
    "id": "bsl_rMOKN30K",
    "outputId": "9752fd10-2c89-4ad8-ad87-525bf1cc6eee"
   },
   "outputs": [
    {
     "name": "stdout",
     "output_type": "stream",
     "text": [
      "training time is  2 seconds\n"
     ]
    }
   ],
   "source": [
    "# Creating the svm object\n",
    "clf = svm.SVC(kernel='poly', degree=3)\n",
    "# Creating the time object\n",
    "t0 = time.time()\n",
    "t1 = time.time()\n",
    "# Fitting the data into the model\n",
    "clf.fit(X_train, Y_train)\n",
    "# Calculating the training time\n",
    "print(\"training time is \", round(time.time() - t0), \"seconds\")"
   ]
  },
  {
   "cell_type": "code",
   "execution_count": 27,
   "metadata": {
    "id": "QF0xYt5CN30N",
    "outputId": "ecff9da7-429e-4528-cf43-538709f39756"
   },
   "outputs": [
    {
     "name": "stdout",
     "output_type": "stream",
     "text": [
      "testingtime is  2 seconds\n"
     ]
    }
   ],
   "source": [
    "# Testing the data on the trained model\n",
    "y_pred = clf.predict(X_test)\n",
    "# Calculating the testing time\n",
    "print(\"testingtime is \", round(time.time() - t1), \"seconds\")"
   ]
  },
  {
   "cell_type": "code",
   "execution_count": 28,
   "metadata": {
    "id": "1aB3ThTHN30Q",
    "outputId": "580f0bda-d9d1-4a10-a814-4238e01c9b9c"
   },
   "outputs": [
    {
     "data": {
      "text/plain": [
       "1.0"
      ]
     },
     "execution_count": 28,
     "metadata": {},
     "output_type": "execute_result"
    }
   ],
   "source": [
    "accuracy_score(Y_test,y_pred)"
   ]
  },
  {
   "cell_type": "code",
   "execution_count": null,
   "metadata": {
    "id": "Od70N4jhN30U"
   },
   "outputs": [],
   "source": []
  },
  {
   "cell_type": "code",
   "execution_count": null,
   "metadata": {},
   "outputs": [],
   "source": []
  }
 ],
 "metadata": {
  "colab": {
   "collapsed_sections": [],
   "provenance": []
  },
  "kernelspec": {
   "display_name": "Python 3 (ipykernel)",
   "language": "python",
   "name": "python3"
  },
  "language_info": {
   "codemirror_mode": {
    "name": "ipython",
    "version": 3
   },
   "file_extension": ".py",
   "mimetype": "text/x-python",
   "name": "python",
   "nbconvert_exporter": "python",
   "pygments_lexer": "ipython3",
   "version": "3.9.12"
  }
 },
 "nbformat": 4,
 "nbformat_minor": 1
}
